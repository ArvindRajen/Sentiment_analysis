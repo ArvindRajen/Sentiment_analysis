{
  "nbformat": 4,
  "nbformat_minor": 0,
  "metadata": {
    "kernelspec": {
      "display_name": "Python 3",
      "language": "python",
      "name": "python3"
    },
    "language_info": {
      "codemirror_mode": {
        "name": "ipython",
        "version": 3
      },
      "file_extension": ".py",
      "mimetype": "text/x-python",
      "name": "python",
      "nbconvert_exporter": "python",
      "pygments_lexer": "ipython3",
      "version": "3.7.3"
    },
    "colab": {
      "name": "CategoryClassifer.ipynb",
      "provenance": [],
      "collapsed_sections": [],
      "include_colab_link": true
    }
  },
  "cells": [
    {
      "cell_type": "markdown",
      "metadata": {
        "id": "view-in-github",
        "colab_type": "text"
      },
      "source": [
        "<a href=\"https://colab.research.google.com/github/ArvindRajen/Sentiment_analysis/blob/main/CategoryClassifer.ipynb\" target=\"_parent\"><img src=\"https://colab.research.google.com/assets/colab-badge.svg\" alt=\"Open In Colab\"/></a>"
      ]
    },
    {
      "cell_type": "code",
      "metadata": {
        "id": "neMMPN_TbUpH"
      },
      "source": [
        "import numpy as np\n",
        "import random\n",
        "from sklearn.model_selection import train_test_split\n",
        "from sklearn.feature_extraction.text import CountVectorizer, TfidfVectorizer\n",
        "from sklearn.metrics import f1_score\n",
        "\n",
        "import json"
      ],
      "execution_count": 1,
      "outputs": []
    },
    {
      "cell_type": "markdown",
      "metadata": {
        "id": "GYzGC7gRbUpQ"
      },
      "source": [
        "### Load In Data"
      ]
    },
    {
      "cell_type": "markdown",
      "metadata": {
        "id": "Od8OrO9ybUpS"
      },
      "source": [
        "#### Data Class"
      ]
    },
    {
      "cell_type": "code",
      "metadata": {
        "id": "i6HDN3Q4bUpW"
      },
      "source": [
        "class Category:\n",
        "    ELECTRONICS = \"ELECTRONICS\"\n",
        "    BOOKS = \"BOOKS\"\n",
        "    CLOTHING = \"CLOTHING\"\n",
        "    GROCERY = \"GROCERY\"\n",
        "    PATIO = \"PATIO\"\n",
        "    \n",
        "class Sentiment:\n",
        "    POSITIVE = \"POSITIVE\"\n",
        "    NEGATIVE = \"NEGATIVE\"\n",
        "    NEUTRAL = \"NEUTRAL\"\n",
        "\n",
        "class Review:\n",
        "    def __init__(self, category, text, score):\n",
        "        self.category = category\n",
        "        self.text = text\n",
        "        self.score = score\n",
        "        self.sentiment = self.get_sentiment()\n",
        "        \n",
        "    def get_sentiment(self):\n",
        "        if self.score <= 2:\n",
        "            return Sentiment.NEGATIVE\n",
        "        elif self.score == 3:\n",
        "            return Sentiment.NEUTRAL\n",
        "        else: # Amazon review is a 4 or 5\n",
        "            return Sentiment.POSITIVE\n",
        "        \n",
        "class ReviewContainer:\n",
        "    def __init__(self, reviews):\n",
        "        self.reviews = reviews\n",
        "    \n",
        "    def get_text(self):\n",
        "        return [x.text for x in self.reviews]\n",
        "    \n",
        "    def get_x(self, vectorizer):\n",
        "        return vectorizer.transform(self.get_text())\n",
        "    \n",
        "    def get_y(self):\n",
        "        return [x.sentiment for x in self.reviews]\n",
        "    \n",
        "    def get_category(self):\n",
        "        return [x.category for x in self.reviews]\n",
        "    \n",
        "    def evenly_distribute(self):\n",
        "        negative = list(filter(lambda x: x.sentiment == Sentiment.NEGATIVE, self.reviews))\n",
        "        positive = list(filter(lambda x: x.sentiment == Sentiment.POSITIVE, self.reviews))\n",
        "        positive_shrunk = positive[:len(negative)]\n",
        "        print(len(positive_shrunk))\n",
        "        self.reviews = negative + positive_shrunk\n",
        "        random.shuffle(self.reviews)\n",
        "        print(self.reviews[0])\n",
        "        "
      ],
      "execution_count": 2,
      "outputs": []
    },
    {
      "cell_type": "markdown",
      "metadata": {
        "id": "EqcIVJCpbUpc"
      },
      "source": [
        "#### Load in Data"
      ]
    },
    {
      "cell_type": "code",
      "metadata": {
        "id": "-1MU7EsZbUpf"
      },
      "source": [
        "file_names = ['/content/Electronics_small.json', '/content/Books_small.json', '/content/Clothing_small.json', '/content/Grocery_small.json', '/content/Patio_small.json']\n",
        "file_categories = [Category.ELECTRONICS, Category.BOOKS, Category.CLOTHING, Category.GROCERY, Category.PATIO]\n",
        "\n",
        "reviews = []\n",
        "for i in range(len(file_names)):\n",
        "    file_name = file_names[i]\n",
        "    category = file_categories[i]\n",
        "    with open(file_name) as f:\n",
        "        for line in f:\n",
        "            review_json = json.loads(line)\n",
        "            review = Review(category, review_json['reviewText'], review_json['overall'])\n",
        "            reviews.append(review)"
      ],
      "execution_count": 3,
      "outputs": []
    },
    {
      "cell_type": "markdown",
      "metadata": {
        "id": "OyPy5V4gbUpq"
      },
      "source": [
        "### Data Prep"
      ]
    },
    {
      "cell_type": "code",
      "metadata": {
        "id": "W-4nd8UcbUpr"
      },
      "source": [
        "train, test = train_test_split(reviews, test_size = 0.33, random_state=42)\n",
        "\n",
        "train_container = ReviewContainer(train)\n",
        "#train_container.evenly_distribute()\n",
        "test_container = ReviewContainer(test)\n",
        "#test_container.evenly_distribute()\n",
        "\n",
        "corpus = train_container.get_text()\n",
        "# vectorizer = CountVectorizer(binary=True)\n",
        "# vectorizer.fit(corpus)\n",
        "vectorizer = TfidfVectorizer()\n",
        "vectorizer.fit(corpus)\n",
        "\n",
        "train_x = train_container.get_x(vectorizer)\n",
        "train_y = train_container.get_category()\n",
        "\n",
        "test_x = test_container.get_x(vectorizer)\n",
        "test_y = test_container.get_category()"
      ],
      "execution_count": 4,
      "outputs": []
    },
    {
      "cell_type": "markdown",
      "metadata": {
        "id": "y8kLbmNRbUpw"
      },
      "source": [
        "### Classification"
      ]
    },
    {
      "cell_type": "code",
      "metadata": {
        "id": "SYzoayklbUpx",
        "outputId": "d424f6b3-7f42-4e28-f67a-4f1f0962be21",
        "colab": {
          "base_uri": "https://localhost:8080/",
          "height": 92
        }
      },
      "source": [
        "from sklearn import svm\n",
        "\n",
        "clf = svm.SVC(C=16, kernel='linear', gamma='auto')\n",
        "clf.fit(train_x, train_y)\n",
        "\n"
      ],
      "execution_count": 5,
      "outputs": [
        {
          "output_type": "execute_result",
          "data": {
            "text/plain": [
              "SVC(C=16, break_ties=False, cache_size=200, class_weight=None, coef0=0.0,\n",
              "    decision_function_shape='ovr', degree=3, gamma='auto', kernel='linear',\n",
              "    max_iter=-1, probability=False, random_state=None, shrinking=True,\n",
              "    tol=0.001, verbose=False)"
            ]
          },
          "metadata": {
            "tags": []
          },
          "execution_count": 5
        }
      ]
    },
    {
      "cell_type": "code",
      "metadata": {
        "id": "6u33oA2CbUp4",
        "outputId": "aadfbe47-5972-4194-d1cf-80fe38e747e2",
        "colab": {
          "base_uri": "https://localhost:8080/",
          "height": 36
        }
      },
      "source": [
        "test_set = ['great for my wedding', \"loved it in my garden\", 'good computer']\n",
        "new_test = vectorizer.transform(test_set)\n",
        "\n",
        "clf.predict(new_test)\n",
        "\n"
      ],
      "execution_count": 6,
      "outputs": [
        {
          "output_type": "execute_result",
          "data": {
            "text/plain": [
              "array(['CLOTHING', 'PATIO', 'ELECTRONICS'], dtype='<U11')"
            ]
          },
          "metadata": {
            "tags": []
          },
          "execution_count": 6
        }
      ]
    },
    {
      "cell_type": "code",
      "metadata": {
        "id": "2eIT3pP4bUp-",
        "outputId": "029a95b0-ce66-4106-90c6-235bfaa288c6",
        "colab": {
          "base_uri": "https://localhost:8080/",
          "height": 36
        }
      },
      "source": [
        "from sklearn.naive_bayes import GaussianNB\n",
        "gnb = GaussianNB()\n",
        "\n",
        "# print(train_x)\n",
        "gnb.fit(train_x.todense(),train_y)\n",
        "gnb.score(test_x.todense(),test_y)"
      ],
      "execution_count": 7,
      "outputs": [
        {
          "output_type": "execute_result",
          "data": {
            "text/plain": [
              "0.8109090909090909"
            ]
          },
          "metadata": {
            "tags": []
          },
          "execution_count": 7
        }
      ]
    },
    {
      "cell_type": "markdown",
      "metadata": {
        "id": "fP7C8OlDbUqI"
      },
      "source": [
        "#### Performance"
      ]
    },
    {
      "cell_type": "code",
      "metadata": {
        "id": "PkO3EXZDbUqJ",
        "outputId": "4e69400c-2ea0-4fbe-f7d4-485a1b4e88f8",
        "colab": {
          "base_uri": "https://localhost:8080/",
          "height": 36
        }
      },
      "source": [
        "y_pred = clf.predict(test_x)\n",
        "\n",
        "f1_score(test_y, y_pred, average=None)\n",
        "\n",
        "# for i in range(len(y_pred)):\n",
        "#     print(y_pred[i], test_y[i])"
      ],
      "execution_count": 8,
      "outputs": [
        {
          "output_type": "execute_result",
          "data": {
            "text/plain": [
              "array([0.95111111, 0.89323308, 0.88567294, 0.89891135, 0.91693291])"
            ]
          },
          "metadata": {
            "tags": []
          },
          "execution_count": 8
        }
      ]
    },
    {
      "cell_type": "code",
      "metadata": {
        "id": "AEvyMzN9bUqR",
        "outputId": "b59b4302-4c0b-42e2-8d1e-4023c7e25459",
        "colab": {
          "base_uri": "https://localhost:8080/",
          "height": 36
        }
      },
      "source": [
        "clf.score(test_x, test_y)"
      ],
      "execution_count": 9,
      "outputs": [
        {
          "output_type": "execute_result",
          "data": {
            "text/plain": [
              "0.9090909090909091"
            ]
          },
          "metadata": {
            "tags": []
          },
          "execution_count": 9
        }
      ]
    },
    {
      "cell_type": "markdown",
      "metadata": {
        "id": "bkwJxQs0bUqZ"
      },
      "source": [
        "#### Tuning (with grid search)"
      ]
    },
    {
      "cell_type": "code",
      "metadata": {
        "id": "z63xSWekbUqa",
        "outputId": "4b46e33d-96ac-463e-de45-1f3070d79b04",
        "colab": {
          "base_uri": "https://localhost:8080/",
          "height": 204
        }
      },
      "source": [
        "from sklearn.model_selection import GridSearchCV\n",
        "\n",
        "parameters = {'C':[0.1,1]}\n",
        "svc = svm.SVC()\n",
        "clf = GridSearchCV(svc, parameters, cv=5)\n",
        "clf.fit(train_x, train_y)"
      ],
      "execution_count": 12,
      "outputs": [
        {
          "output_type": "execute_result",
          "data": {
            "text/plain": [
              "GridSearchCV(cv=5, error_score=nan,\n",
              "             estimator=SVC(C=1.0, break_ties=False, cache_size=200,\n",
              "                           class_weight=None, coef0=0.0,\n",
              "                           decision_function_shape='ovr', degree=3,\n",
              "                           gamma='scale', kernel='rbf', max_iter=-1,\n",
              "                           probability=False, random_state=None, shrinking=True,\n",
              "                           tol=0.001, verbose=False),\n",
              "             iid='deprecated', n_jobs=None, param_grid={'C': [0.1, 1]},\n",
              "             pre_dispatch='2*n_jobs', refit=True, return_train_score=False,\n",
              "             scoring=None, verbose=0)"
            ]
          },
          "metadata": {
            "tags": []
          },
          "execution_count": 12
        }
      ]
    },
    {
      "cell_type": "code",
      "metadata": {
        "id": "xdLALQ5ZbUqf",
        "outputId": "763acb2f-690a-497e-8f4d-d1cf6d7769a3",
        "colab": {
          "base_uri": "https://localhost:8080/",
          "height": 36
        }
      },
      "source": [
        "clf.score(test_x, test_y)"
      ],
      "execution_count": 13,
      "outputs": [
        {
          "output_type": "execute_result",
          "data": {
            "text/plain": [
              "0.9193939393939394"
            ]
          },
          "metadata": {
            "tags": []
          },
          "execution_count": 13
        }
      ]
    },
    {
      "cell_type": "markdown",
      "metadata": {
        "id": "R_lbXAv5bUqn"
      },
      "source": [
        "### Pickle Model"
      ]
    },
    {
      "cell_type": "markdown",
      "metadata": {
        "id": "rPZ6btYvbUqp"
      },
      "source": [
        "#### Save classifier"
      ]
    },
    {
      "cell_type": "code",
      "metadata": {
        "id": "zCQxBYFlbUqq"
      },
      "source": [
        "import pickle\n",
        "\n",
        "with open('./models/category_classifier.pkl', 'wb') as f:\n",
        "    pickle.dump(clf, f)\n",
        "    \n",
        "with open('./models/category_vectorizer.pkl', 'wb') as f:\n",
        "    pickle.dump(vectorizer, f)"
      ],
      "execution_count": null,
      "outputs": []
    },
    {
      "cell_type": "markdown",
      "metadata": {
        "id": "9DtScUmVbUqx"
      },
      "source": [
        "#### Load Classifier"
      ]
    },
    {
      "cell_type": "code",
      "metadata": {
        "id": "si3d-XqVbUqy"
      },
      "source": [
        "import pickle \n",
        "\n",
        "with open('./models/category_classifier.pkl', 'rb') as f:\n",
        "    clf = pickle.load(f)\n",
        "\n",
        "with open('./models/category_vectorizer.pkl', 'rb') as f:\n",
        "    vectorizer = pickle.load(f)\n",
        "    "
      ],
      "execution_count": null,
      "outputs": []
    },
    {
      "cell_type": "code",
      "metadata": {
        "id": "JkF2g7qQbUrJ",
        "outputId": "b87c0321-2cbf-40ad-8b58-3f4970a1897b"
      },
      "source": [
        "test_set = ['very quick speeds', \"loved the necklace\", 'bad']\n",
        "new_test = vectorizer.transform(test_set)\n",
        "\n",
        "clf.predict(new_test)"
      ],
      "execution_count": null,
      "outputs": [
        {
          "output_type": "execute_result",
          "data": {
            "text/plain": [
              "array(['ELECTRONICS', 'CLOTHING', 'GROCERY'], dtype='<U11')"
            ]
          },
          "metadata": {
            "tags": []
          },
          "execution_count": 21
        }
      ]
    },
    {
      "cell_type": "markdown",
      "metadata": {
        "id": "3LTJC6YYbUrO"
      },
      "source": [
        "### Confusion Matrix"
      ]
    },
    {
      "cell_type": "code",
      "metadata": {
        "id": "W3_g42g6bUrP",
        "outputId": "44c1582d-2eb0-496d-abc3-2b0c44fd10d5",
        "colab": {
          "base_uri": "https://localhost:8080/",
          "height": 284
        }
      },
      "source": [
        "from sklearn.metrics import confusion_matrix\n",
        "import seaborn as sn\n",
        "import pandas as pd\n",
        "import matplotlib as plt\n",
        "\n",
        "y_pred = clf.predict(test_x)\n",
        "\n",
        "labels = [Category.ELECTRONICS, Category.BOOKS, Category.CLOTHING, Category.GROCERY, Category.PATIO]\n",
        "\n",
        "cm = confusion_matrix(test_y, y_pred, labels=labels)\n",
        "df_cm = pd.DataFrame(cm, index=labels, columns=labels)\n",
        "\n",
        "sn.heatmap(df_cm, annot=True, fmt='d')\n"
      ],
      "execution_count": 14,
      "outputs": [
        {
          "output_type": "execute_result",
          "data": {
            "text/plain": [
              "<matplotlib.axes._subplots.AxesSubplot at 0x7f74458d46d8>"
            ]
          },
          "metadata": {
            "tags": []
          },
          "execution_count": 14
        },
        {
          "output_type": "display_data",
          "data": {
            "image/png": "[encoded data removed]",
            "text/plain": [
              "<Figure size 432x288 with 2 Axes>"
            ]
          },
          "metadata": {
            "tags": [],
            "needs_background": "light"
          }
        }
      ]
    },
    {
      "cell_type": "code",
      "metadata": {
        "id": "HtKNdKVebUrR"
      },
      "source": [
        ""
      ],
      "execution_count": null,
      "outputs": []
    }
  ]
}